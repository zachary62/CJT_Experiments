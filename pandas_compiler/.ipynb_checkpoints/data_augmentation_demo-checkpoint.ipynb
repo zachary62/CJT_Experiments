{
 "cells": [
  {
   "cell_type": "code",
   "execution_count": 1,
   "id": "76837c41",
   "metadata": {},
   "outputs": [],
   "source": [
    "from pandas_compiler import *"
   ]
  },
  {
   "cell_type": "code",
   "execution_count": 4,
   "id": "d8c7c5e3",
   "metadata": {},
   "outputs": [],
   "source": [
    "Holiday = pd.read_csv(\"./data/holidays_events.csv\")\n",
    "Items = pd.read_csv(\"./data/items.csv\")\n",
    "Sales = pd.read_csv(\"./data/sales_small.csv\")\n",
    "Stores = pd.read_csv(\"./data/stores.csv\")\n",
    "Transactions = pd.read_csv(\"./data/transactions.csv\")\n",
    "store_aug = pd.read_csv(\"./data/store_aug.csv\")\n",
    "date_aug = pd.read_csv(\"./data/date_aug.csv\")\n",
    "item_aug = pd.read_csv(\"./data/item_aug.csv\")"
   ]
  },
  {
   "cell_type": "code",
   "execution_count": 5,
   "id": "a74e36a0",
   "metadata": {},
   "outputs": [
    {
     "name": "stderr",
     "output_type": "stream",
     "text": [
      "/home/jupyter/CJT_Experiments/pandas_compiler/pandas_compiler.py:181: SettingWithCopyWarning: \n",
      "A value is trying to be set on a copy of a slice from a DataFrame.\n",
      "Try using .loc[row_indexer,col_indexer] = value instead\n",
      "\n",
      "See the caveats in the documentation: https://pandas.pydata.org/pandas-docs/stable/user_guide/indexing.html#returning-a-view-versus-a-copy\n",
      "  self.data['cov:c'] = 1\n",
      "/home/jupyter/CJT_Experiments/pandas_compiler/pandas_compiler.py:185: SettingWithCopyWarning: \n",
      "A value is trying to be set on a copy of a slice from a DataFrame.\n",
      "Try using .loc[row_indexer,col_indexer] = value instead\n",
      "\n",
      "See the caveats in the documentation: https://pandas.pydata.org/pandas-docs/stable/user_guide/indexing.html#returning-a-view-versus-a-copy\n",
      "  self.data['cov:Q:' + tablename + \":\" + attributes[i] + \",\"+ tablename + \":\" + attributes[j]] = self.data[attributes[i]] * self.data[attributes[j]]\n"
     ]
    }
   ],
   "source": [
    "Items_data = agg_dataset()\n",
    "Items_data.load_seller(Items, [\"item_nbr\"], \"Items\",feature_transform=False)\n",
    "Items_data.compute_agg()\n",
    "\n",
    "Sales_data = agg_dataset()\n",
    "Sales_data.load_seller(Sales, [\"item_nbr\",\"date\",\"store_nbr\"], \"Sales\",feature_transform=False)\n",
    "Sales_data.compute_agg()\n",
    "\n",
    "Transactions_data = agg_dataset()\n",
    "Transactions_data.load_seller(Transactions, [\"date\", \"store_nbr\"], \"Transactions\",feature_transform=False)\n",
    "Transactions_data.compute_agg()\n",
    "\n",
    "Stores_data = agg_dataset()\n",
    "Stores_data.load_seller(Stores, [\"store_nbr\"], \"Stores\",feature_transform=False)\n",
    "Stores_data.compute_agg()\n",
    "\n",
    "Holiday_data = agg_dataset()\n",
    "Holiday_data.load_seller(Holiday, [\"date\"], \"Holiday\",feature_transform=False)\n",
    "Holiday_data.compute_agg()\n",
    "\n",
    "store_aug_data = agg_dataset()\n",
    "store_aug_data.load_seller(store_aug, [\"store_nbr\"], \"store_aug\",feature_transform=False)\n",
    "store_aug_data.compute_agg()\n",
    "\n",
    "date_aug_data = agg_dataset()\n",
    "date_aug_data.load_seller(date_aug, [\"date\"], \"date_aug\",feature_transform=False)\n",
    "date_aug_data.compute_agg()\n",
    "\n",
    "item_aug_data = agg_dataset()\n",
    "item_aug_data.load_seller(item_aug, [\"item_nbr\"], \"item_aug\",feature_transform=False)\n",
    "item_aug_data.compute_agg()"
   ]
  },
  {
   "cell_type": "code",
   "execution_count": 6,
   "id": "3340cc10",
   "metadata": {},
   "outputs": [
    {
     "name": "stderr",
     "output_type": "stream",
     "text": [
      "/home/jupyter/CJT_Experiments/pandas_compiler/pandas_compiler.py:344: FutureWarning: In a future version of pandas all arguments of DataFrame.drop except for the argument 'labels' will be keyword-only\n",
      "  join = join.drop('cov:c_x', 1)\n",
      "/home/jupyter/CJT_Experiments/pandas_compiler/pandas_compiler.py:345: FutureWarning: In a future version of pandas all arguments of DataFrame.drop except for the argument 'labels' will be keyword-only\n",
      "  join = join.drop('cov:c_y', 1)\n"
     ]
    }
   ],
   "source": [
    "# Forward message passing\n",
    "m1 = Items_data.group_by(\"item_nbr\",False)\n",
    "m2 = Sales_data.join(m1, \"item_nbr\", [])\n",
    "m2.group_by([\"date\",\"store_nbr\"])\n",
    "m3 = Stores_data.group_by(\"store_nbr\",False)\n",
    "m4 = Transactions_data.join(m2, [\"date\",\"store_nbr\"], [])\n",
    "m4 = m4.join(m3, \"store_nbr\", [])\n",
    "m4.group_by([\"date\"])"
   ]
  },
  {
   "cell_type": "code",
   "execution_count": 7,
   "id": "6779f281",
   "metadata": {},
   "outputs": [],
   "source": [
    "# Backward message passing\n",
    "m5 = Holiday_data.group_by(\"date\",False)\n",
    "m6 = Transactions_data.join(m5, \"date\", [])\n",
    "m6 = Transactions_data.join(m2, [\"date\",\"store_nbr\"], [])\n",
    "m6.group_by(\"store_nbr\")\n",
    "m7 = Transactions_data.join(m5, \"date\", [])\n",
    "m7 = Transactions_data.join(m3, \"store_nbr\", [])\n",
    "m7.group_by([\"date\",\"store_nbr\"])\n",
    "m8 = Sales_data.join(m7, [\"date\",\"store_nbr\"], [])\n",
    "m8.group_by(\"item_nbr\")"
   ]
  },
  {
   "cell_type": "code",
   "execution_count": 10,
   "id": "2c7a581c",
   "metadata": {},
   "outputs": [
    {
     "data": {
      "text/plain": [
       "0.3401248570619023"
      ]
     },
     "execution_count": 10,
     "metadata": {},
     "output_type": "execute_result"
    }
   ],
   "source": [
    "# model performance before augmentation\n",
    "join_cov = m4.cov() \n",
    "x = [\"Transactions:transaction_aug\"]\n",
    "y = \"Sales:Y\"\n",
    "parameter = linear_regression(join_cov, x, y)\n",
    "r2(join_cov, x, y, parameter)"
   ]
  },
  {
   "cell_type": "code",
   "execution_count": 11,
   "id": "d176a9b4",
   "metadata": {},
   "outputs": [],
   "source": [
    "# augmentation of Date, Store and Items\n",
    "# m9 = Holiday_data.join(m4, [\"date\"], [])\n",
    "# m10 = date_aug_data.join(m9, [\"date\"], [])\n",
    "\n",
    "# m9 = Stores_data.join(m6, [\"store_nbr\"], [])\n",
    "# m10 = store_aug_data.join(m9, [\"store_nbr\"], [])\n",
    "\n",
    "m9 = Items_data.join(m8, [\"item_nbr\"], [])\n",
    "m10 = item_aug_data.join(m9, [\"item_nbr\"], [])"
   ]
  },
  {
   "cell_type": "code",
   "execution_count": 12,
   "id": "de3e387e",
   "metadata": {},
   "outputs": [
    {
     "data": {
      "text/plain": [
       "0.6775595536840981"
      ]
     },
     "execution_count": 12,
     "metadata": {},
     "output_type": "execute_result"
    }
   ],
   "source": [
    "# model performance after augmentation\n",
    "join_cov = m10.cov() \n",
    "x = [\"Transactions:transaction_aug\",\"item_aug:item_aug\"]\n",
    "y = \"Sales:Y\"\n",
    "parameter = linear_regression(join_cov, x, y)\n",
    "r2(join_cov, x, y, parameter)"
   ]
  },
  {
   "cell_type": "code",
   "execution_count": null,
   "id": "876e6ae6",
   "metadata": {},
   "outputs": [],
   "source": []
  }
 ],
 "metadata": {
  "environment": {
   "name": "common-cpu.m79",
   "type": "gcloud",
   "uri": "gcr.io/deeplearning-platform-release/base-cpu:m79"
  },
  "kernelspec": {
   "display_name": "Python 3",
   "language": "python",
   "name": "python3"
  },
  "language_info": {
   "codemirror_mode": {
    "name": "ipython",
    "version": 3
   },
   "file_extension": ".py",
   "mimetype": "text/x-python",
   "name": "python",
   "nbconvert_exporter": "python",
   "pygments_lexer": "ipython3",
   "version": "3.7.10"
  }
 },
 "nbformat": 4,
 "nbformat_minor": 5
}
